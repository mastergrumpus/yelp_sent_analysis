{
 "cells": [
  {
   "cell_type": "code",
   "execution_count": 15,
   "id": "07d9b1e6-2473-4e56-85a9-9fb1ad3182a8",
   "metadata": {},
   "outputs": [],
   "source": [
    "\n",
    "import json\n",
    "import pandas as pd\n",
    "import sqlite3\n",
    "import numpy as np\n",
    "import re"
   ]
  },
  {
   "cell_type": "markdown",
   "id": "95a1bd72-2072-431e-b95c-4aecb02c3fdc",
   "metadata": {},
   "source": [
    "#### Evaluating the Full Dataset\n",
    "\n",
    "The Yelp dataset contained a huge amount of information.  Overall, there were 5 .json files:\n",
    "\n",
    "1. yelp_academic_dataset_business.json - Information on the businesses listed on Yelp including the business name, average rating, location, attributes (accepts credit card, outdoor seating, etc.), whether it was currently open or not, and its hours.  Contained 14 columns and about 150,000 rows.\n",
    "2. yelp_academic_dataset_review.json - Information on individual reviews including the user id of the poster, the business id of the business reviewed, the number of stars, the text for the review, date posted, and how many users found the review either \"useful\", \"funny\", or \"cool\".  Contained 9 columns and about 7,000,000 rows.\n",
    "3. yelp_academic_dataset_user.json - Information on individual Yelp accounts and profiles including name, number of total reviews, how long they had been using the platform, average star rating, elite status, friends and fans, number of \"useful\", \"funny\", and \"cool\" reviews, and various other interactins.  Contained 22 columns and about 2,000,000 rows.\n",
    "4. yelp_academic_dataset_checkin.json - Simple information on check-ins - the date and the id of the business visited.  Contained 2 columns and about 132,000 rows.\n",
    "5. yelp_academic_dataset_tip.json - Information on \"tips\".  \"Tips\" are shorter than full reviews and are generally 1-2 sentences providing relevant information for a given business.  This dataset had information on the user id of the poster, the business id, the text, the date posted, and how many compliments the tip received from other users.  Contained 5 columns and about 909,000 rows."
   ]
  },
  {
   "cell_type": "code",
   "execution_count": 2,
   "id": "9fac4f9a-5186-44dc-9d3e-cb57b2a2b1f3",
   "metadata": {},
   "outputs": [],
   "source": [
    "data_file_review = open('Data/yelp_academic_dataset_review.json', encoding = 'utf-8')\n",
    "data_review = []\n",
    "for line in data_file_review:\n",
    "    data_review.append(json.loads(line))\n",
    "review_df = pd.DataFrame(data_review)\n",
    "data_file_review.close()\n",
    "\n",
    "data_file_business = open('Data/yelp_academic_dataset_business.json', encoding = 'utf-8')\n",
    "data_business = []\n",
    "for line in data_file_business:\n",
    "    data_business.append(json.loads(line))\n",
    "business_df = pd.DataFrame(data_business)\n",
    "data_file_business.close()"
   ]
  },
  {
   "cell_type": "markdown",
   "id": "aeca7636-b7a0-4078-a4b5-2b260080d040",
   "metadata": {},
   "source": [
    "#### Creating a Relevant Dataset\n",
    "\n",
    "Most of the relevant information needed for this project was contained in the review .json.  However, I needed to join it with the business .json because of the ~17,000,000 reviews, ~13,000,000 of them were for businesses that were not restaurants.  Because of the size of the dataset, I decided to focus only on restaurants for this project.\n",
    "\n",
    "To perform this filtering, I used SQL to join on the business id and return the relevant information after filtering for non-restaurant businesses.  The resulting dataframe still contains columns that will not be used for this project, but I saved it as such to be used for future projects.  I saved this dataframe to a .csv file for use in this project, as running the notebook on the full dataset takes a very long time.  For this reason, I have isolated this process to a separate notebook and will be using the created dataset for the bulk of my work."
   ]
  },
  {
   "cell_type": "code",
   "execution_count": 3,
   "id": "bc3f7eca-a5e4-425f-8852-5a5668e32191",
   "metadata": {},
   "outputs": [],
   "source": [
    "conn = sqlite3.connect('review.db')\n",
    "business_df = business_df.astype(str)\n",
    "review_df = review_df.astype(str)\n",
    "review_df.to_sql(name='review', con=conn, if_exists='replace', index=False)\n",
    "business_df.to_sql(name='business', con=conn, if_exists='replace', index=False)"
   ]
  },
  {
   "cell_type": "code",
   "execution_count": 4,
   "id": "3202bbf8-8def-4577-b448-89d16794332b",
   "metadata": {},
   "outputs": [],
   "source": [
    "query = \"\"\"\n",
    "SELECT review.review_id AS review_id,\n",
    "        business.name AS business_name,\n",
    "        business.stars AS business_rating,\n",
    "        business.categories AS categories,\n",
    "        review.stars AS stars,\n",
    "        review.useful AS useful,\n",
    "        review.funny AS funny,\n",
    "        review.cool AS cool,\n",
    "        review.text AS review_text\n",
    "FROM review\n",
    "        JOIN business\n",
    "            ON review.business_id = business.business_id\n",
    "WHERE INSTR(categories, 'Restaurant') > 0\n",
    "\"\"\""
   ]
  },
  {
   "cell_type": "code",
   "execution_count": 16,
   "id": "2af75bb5-7128-4563-9ba8-bc07f9f7f137",
   "metadata": {},
   "outputs": [],
   "source": [
    "df = pd.DataFrame(pd.read_sql(query, conn))"
   ]
  },
  {
   "cell_type": "code",
   "execution_count": 19,
   "id": "6db93458-57c4-4db9-90c7-030aa82ce7f5",
   "metadata": {},
   "outputs": [
    {
     "name": "stdout",
     "output_type": "stream",
     "text": [
      "<class 'pandas.core.frame.DataFrame'>\n",
      "Int64Index: 4180948 entries, 0 to 4724683\n",
      "Data columns (total 2 columns):\n",
      " #   Column       Dtype  \n",
      "---  ------       -----  \n",
      " 0   stars        float64\n",
      " 1   review_text  object \n",
      "dtypes: float64(1), object(1)\n",
      "memory usage: 95.7+ MB\n"
     ]
    }
   ],
   "source": [
    "df['stars'] = df['stars'].astype(np.float64)\n",
    "pattern = r'[a-zA-Z0-9!@#$%^&*()-_=+{}[\\]|;:\\'\",.<>?/\\\\]'\n",
    "def contains_pattern(text):\n",
    "    return bool(re.match(pattern, text))\n",
    "mask = df['review_text'].apply(contains_pattern)\n",
    "df = df[mask].drop(columns = ['review_id', 'business_name', 'business_rating', 'categories', 'useful', 'funny', 'cool'], axis = 1)\n",
    "df = df[df['stars'] != 3]\n",
    "df.info()"
   ]
  },
  {
   "cell_type": "code",
   "execution_count": 20,
   "id": "b7e5a497-45fc-46c0-91e8-a7bb8e49dfb3",
   "metadata": {},
   "outputs": [
    {
     "data": {
      "text/plain": [
       "stars          0\n",
       "review_text    0\n",
       "dtype: int64"
      ]
     },
     "execution_count": 20,
     "metadata": {},
     "output_type": "execute_result"
    }
   ],
   "source": [
    "df.isna().sum()"
   ]
  },
  {
   "cell_type": "code",
   "execution_count": 21,
   "id": "772b52b8-e5cc-4907-b686-cbb734ac20ee",
   "metadata": {},
   "outputs": [],
   "source": [
    "df.to_csv('yelp_restaurant_reviews.csv', index = False)"
   ]
  },
  {
   "cell_type": "code",
   "execution_count": null,
   "id": "959a9560-b93f-40e6-b8d9-1d82fd4d1689",
   "metadata": {},
   "outputs": [],
   "source": []
  }
 ],
 "metadata": {
  "kernelspec": {
   "display_name": "Python (learn-env)",
   "language": "python",
   "name": "learn-env"
  },
  "language_info": {
   "codemirror_mode": {
    "name": "ipython",
    "version": 3
   },
   "file_extension": ".py",
   "mimetype": "text/x-python",
   "name": "python",
   "nbconvert_exporter": "python",
   "pygments_lexer": "ipython3",
   "version": "3.8.5"
  }
 },
 "nbformat": 4,
 "nbformat_minor": 5
}
